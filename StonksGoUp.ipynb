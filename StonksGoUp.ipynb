{
 "cells": [
  {
   "cell_type": "markdown",
   "metadata": {},
   "source": [
    "# Stock Analysis"
   ]
  },
  {
   "cell_type": "markdown",
   "metadata": {},
   "source": [
    "### For this project, we will use Long Short Term Memory (LSTM), an artificial recurrent Neural Network to predict closing stock market prices of Blackberry using stock price data from last 60 days"
   ]
  },
  {
   "cell_type": "markdown",
   "metadata": {},
   "source": [
    "#### Import libraries"
   ]
  },
  {
   "cell_type": "code",
   "execution_count": 6,
   "metadata": {},
   "outputs": [],
   "source": [
    "import pandas as pd\n",
    "import pandas_datareader as web\n",
    "import numpy as np\n",
    "import math\n",
    "from sklearn.preprocessing import MinMaxScaler\n",
    "from keras.models import Sequential\n",
    "from keras.layers import Dense, LSTM\n",
    "\n",
    "import matplotlib.pyplot as plt\n",
    "plt.style.use(\"fivethirtyeight\")"
   ]
  },
  {
   "cell_type": "markdown",
   "metadata": {},
   "source": [
    "#### Get the stock Prices"
   ]
  },
  {
   "cell_type": "code",
   "execution_count": 53,
   "metadata": {},
   "outputs": [],
   "source": [
    "df = web.DataReader('BB', data_source='yahoo', start='2012-01-01', end = '2021-02-19')"
   ]
  },
  {
   "cell_type": "markdown",
   "metadata": {},
   "source": [
    "#### Show the data"
   ]
  },
  {
   "cell_type": "code",
   "execution_count": 54,
   "metadata": {},
   "outputs": [
    {
     "data": {
      "text/html": [
       "<div>\n",
       "<style scoped>\n",
       "    .dataframe tbody tr th:only-of-type {\n",
       "        vertical-align: middle;\n",
       "    }\n",
       "\n",
       "    .dataframe tbody tr th {\n",
       "        vertical-align: top;\n",
       "    }\n",
       "\n",
       "    .dataframe thead th {\n",
       "        text-align: right;\n",
       "    }\n",
       "</style>\n",
       "<table border=\"1\" class=\"dataframe\">\n",
       "  <thead>\n",
       "    <tr style=\"text-align: right;\">\n",
       "      <th></th>\n",
       "      <th>High</th>\n",
       "      <th>Low</th>\n",
       "      <th>Open</th>\n",
       "      <th>Close</th>\n",
       "      <th>Volume</th>\n",
       "      <th>Adj Close</th>\n",
       "    </tr>\n",
       "    <tr>\n",
       "      <th>Date</th>\n",
       "      <th></th>\n",
       "      <th></th>\n",
       "      <th></th>\n",
       "      <th></th>\n",
       "      <th></th>\n",
       "      <th></th>\n",
       "    </tr>\n",
       "  </thead>\n",
       "  <tbody>\n",
       "    <tr>\n",
       "      <th>2012-01-03</th>\n",
       "      <td>15.86</td>\n",
       "      <td>14.78</td>\n",
       "      <td>14.84</td>\n",
       "      <td>15.51</td>\n",
       "      <td>37162900</td>\n",
       "      <td>15.51</td>\n",
       "    </tr>\n",
       "    <tr>\n",
       "      <th>2012-01-04</th>\n",
       "      <td>15.52</td>\n",
       "      <td>14.88</td>\n",
       "      <td>15.47</td>\n",
       "      <td>15.08</td>\n",
       "      <td>17220500</td>\n",
       "      <td>15.08</td>\n",
       "    </tr>\n",
       "    <tr>\n",
       "      <th>2012-01-05</th>\n",
       "      <td>15.29</td>\n",
       "      <td>14.94</td>\n",
       "      <td>14.99</td>\n",
       "      <td>15.05</td>\n",
       "      <td>14915200</td>\n",
       "      <td>15.05</td>\n",
       "    </tr>\n",
       "    <tr>\n",
       "      <th>2012-01-06</th>\n",
       "      <td>15.49</td>\n",
       "      <td>15.08</td>\n",
       "      <td>15.08</td>\n",
       "      <td>15.34</td>\n",
       "      <td>13645100</td>\n",
       "      <td>15.34</td>\n",
       "    </tr>\n",
       "    <tr>\n",
       "      <th>2012-01-09</th>\n",
       "      <td>15.60</td>\n",
       "      <td>15.21</td>\n",
       "      <td>15.39</td>\n",
       "      <td>15.51</td>\n",
       "      <td>12986300</td>\n",
       "      <td>15.51</td>\n",
       "    </tr>\n",
       "    <tr>\n",
       "      <th>...</th>\n",
       "      <td>...</td>\n",
       "      <td>...</td>\n",
       "      <td>...</td>\n",
       "      <td>...</td>\n",
       "      <td>...</td>\n",
       "      <td>...</td>\n",
       "    </tr>\n",
       "    <tr>\n",
       "      <th>2021-02-12</th>\n",
       "      <td>13.29</td>\n",
       "      <td>12.12</td>\n",
       "      <td>12.29</td>\n",
       "      <td>13.04</td>\n",
       "      <td>18066700</td>\n",
       "      <td>13.04</td>\n",
       "    </tr>\n",
       "    <tr>\n",
       "      <th>2021-02-16</th>\n",
       "      <td>13.17</td>\n",
       "      <td>12.05</td>\n",
       "      <td>13.12</td>\n",
       "      <td>12.21</td>\n",
       "      <td>25407500</td>\n",
       "      <td>12.21</td>\n",
       "    </tr>\n",
       "    <tr>\n",
       "      <th>2021-02-17</th>\n",
       "      <td>11.82</td>\n",
       "      <td>11.01</td>\n",
       "      <td>11.80</td>\n",
       "      <td>11.32</td>\n",
       "      <td>26222900</td>\n",
       "      <td>11.32</td>\n",
       "    </tr>\n",
       "    <tr>\n",
       "      <th>2021-02-18</th>\n",
       "      <td>11.28</td>\n",
       "      <td>10.75</td>\n",
       "      <td>10.83</td>\n",
       "      <td>10.94</td>\n",
       "      <td>19021000</td>\n",
       "      <td>10.94</td>\n",
       "    </tr>\n",
       "    <tr>\n",
       "      <th>2021-02-19</th>\n",
       "      <td>11.19</td>\n",
       "      <td>10.62</td>\n",
       "      <td>10.97</td>\n",
       "      <td>10.90</td>\n",
       "      <td>20036188</td>\n",
       "      <td>10.90</td>\n",
       "    </tr>\n",
       "  </tbody>\n",
       "</table>\n",
       "<p>2298 rows × 6 columns</p>\n",
       "</div>"
      ],
      "text/plain": [
       "             High    Low   Open  Close    Volume  Adj Close\n",
       "Date                                                       \n",
       "2012-01-03  15.86  14.78  14.84  15.51  37162900      15.51\n",
       "2012-01-04  15.52  14.88  15.47  15.08  17220500      15.08\n",
       "2012-01-05  15.29  14.94  14.99  15.05  14915200      15.05\n",
       "2012-01-06  15.49  15.08  15.08  15.34  13645100      15.34\n",
       "2012-01-09  15.60  15.21  15.39  15.51  12986300      15.51\n",
       "...           ...    ...    ...    ...       ...        ...\n",
       "2021-02-12  13.29  12.12  12.29  13.04  18066700      13.04\n",
       "2021-02-16  13.17  12.05  13.12  12.21  25407500      12.21\n",
       "2021-02-17  11.82  11.01  11.80  11.32  26222900      11.32\n",
       "2021-02-18  11.28  10.75  10.83  10.94  19021000      10.94\n",
       "2021-02-19  11.19  10.62  10.97  10.90  20036188      10.90\n",
       "\n",
       "[2298 rows x 6 columns]"
      ]
     },
     "execution_count": 54,
     "metadata": {},
     "output_type": "execute_result"
    }
   ],
   "source": [
    "df\n"
   ]
  },
  {
   "cell_type": "markdown",
   "metadata": {},
   "source": [
    "#### Get the number of rows and columns in the data set"
   ]
  },
  {
   "cell_type": "code",
   "execution_count": 55,
   "metadata": {},
   "outputs": [
    {
     "data": {
      "text/plain": [
       "(2298, 6)"
      ]
     },
     "execution_count": 55,
     "metadata": {},
     "output_type": "execute_result"
    }
   ],
   "source": [
    "df.shape"
   ]
  },
  {
   "cell_type": "markdown",
   "metadata": {},
   "source": [
    "#### Visualize the closing price"
   ]
  },
  {
   "cell_type": "code",
   "execution_count": 56,
   "metadata": {},
   "outputs": [
    {
     "data": {
      "image/png": "[encoded data removed]",
      "text/plain": [
       "<Figure size 1152x576 with 1 Axes>"
      ]
     },
     "metadata": {},
     "output_type": "display_data"
    }
   ],
   "source": [
    "plt.figure(figsize=(16,8))\n",
    "plt.title('Close Price History')\n",
    "plt.plot(df['Close'])\n",
    "plt.xlabel('Date')\n",
    "plt.ylabel('Closing Price (USD$)')\n",
    "plt.show()"
   ]
  },
  {
   "cell_type": "markdown",
   "metadata": {},
   "source": [
    "#### Create new data frame with only the Closing Price and convert it to a numpy array"
   ]
  },
  {
   "cell_type": "code",
   "execution_count": 57,
   "metadata": {},
   "outputs": [],
   "source": [
    "data = df.filter(['Close'])\n",
    "dataset = data.values"
   ]
  },
  {
   "cell_type": "markdown",
   "metadata": {},
   "source": [
    "#### Get the number of rows to train the model on"
   ]
  },
  {
   "cell_type": "code",
   "execution_count": 58,
   "metadata": {},
   "outputs": [
    {
     "data": {
      "text/plain": [
       "1839"
      ]
     },
     "execution_count": 58,
     "metadata": {},
     "output_type": "execute_result"
    }
   ],
   "source": [
    "train_data_len = math.ceil(len(dataset)*0.8)\n",
    "train_data_len"
   ]
  },
  {
   "cell_type": "markdown",
   "metadata": {},
   "source": [
    "#### Scale the data by normalizing it"
   ]
  },
  {
   "cell_type": "code",
   "execution_count": 59,
   "metadata": {},
   "outputs": [
    {
     "data": {
      "text/plain": [
       "array([[0.56801802],\n",
       "       [0.54864863],\n",
       "       [0.54729729],\n",
       "       ...,\n",
       "       [0.37927926],\n",
       "       [0.36216213],\n",
       "       [0.36036033]])"
      ]
     },
     "execution_count": 59,
     "metadata": {},
     "output_type": "execute_result"
    }
   ],
   "source": [
    "scaler = MinMaxScaler(feature_range=(0,1))\n",
    "scaled_data = scaler.fit_transform(dataset)\n",
    "scaled_data"
   ]
  },
  {
   "cell_type": "markdown",
   "metadata": {},
   "source": [
    "#### Create scaled training data set"
   ]
  },
  {
   "cell_type": "code",
   "execution_count": 65,
   "metadata": {},
   "outputs": [
    {
     "name": "stdout",
     "output_type": "stream",
     "text": [
      "[array([0.56801802, 0.54864863, 0.54729729, 0.56036036, 0.56801802,\n",
      "       0.56801802, 0.5725225 , 0.60990992, 0.59774774, 0.65630626,\n",
      "       0.64774777, 0.66081078, 0.63513512, 0.57027028, 0.54549549,\n",
      "       0.60360356, 0.6018018 , 0.62612608, 0.63603604, 0.61846842,\n",
      "       0.62162164, 0.64459454, 0.62972968, 0.6162162 , 0.62207202,\n",
      "       0.61216214, 0.58558556, 0.56486483, 0.54054051, 0.52567565,\n",
      "       0.53603603, 0.56261262, 0.54819817, 0.53963963, 0.52972971,\n",
      "       0.53018017, 0.53243243, 0.51891891, 0.52252251, 0.50765765,\n",
      "       0.48108107, 0.49054053, 0.46936935, 0.46081081, 0.45045042,\n",
      "       0.46396395, 0.48108107, 0.45990988, 0.47702701, 0.46171168,\n",
      "       0.47522521, 0.51711711, 0.52117117, 0.50495493, 0.50180179,\n",
      "       0.49009007, 0.48468467, 0.50180179, 0.49504505, 0.48513513])]\n",
      "[0.48783780663501713]\n",
      "[array([0.56801802, 0.54864863, 0.54729729, 0.56036036, 0.56801802,\n",
      "       0.56801802, 0.5725225 , 0.60990992, 0.59774774, 0.65630626,\n",
      "       0.64774777, 0.66081078, 0.63513512, 0.57027028, 0.54549549,\n",
      "       0.60360356, 0.6018018 , 0.62612608, 0.63603604, 0.61846842,\n",
      "       0.62162164, 0.64459454, 0.62972968, 0.6162162 , 0.62207202,\n",
      "       0.61216214, 0.58558556, 0.56486483, 0.54054051, 0.52567565,\n",
      "       0.53603603, 0.56261262, 0.54819817, 0.53963963, 0.52972971,\n",
      "       0.53018017, 0.53243243, 0.51891891, 0.52252251, 0.50765765,\n",
      "       0.48108107, 0.49054053, 0.46936935, 0.46081081, 0.45045042,\n",
      "       0.46396395, 0.48108107, 0.45990988, 0.47702701, 0.46171168,\n",
      "       0.47522521, 0.51711711, 0.52117117, 0.50495493, 0.50180179,\n",
      "       0.49009007, 0.48468467, 0.50180179, 0.49504505, 0.48513513]), array([0.54864863, 0.54729729, 0.56036036, 0.56801802, 0.56801802,\n",
      "       0.5725225 , 0.60990992, 0.59774774, 0.65630626, 0.64774777,\n",
      "       0.66081078, 0.63513512, 0.57027028, 0.54549549, 0.60360356,\n",
      "       0.6018018 , 0.62612608, 0.63603604, 0.61846842, 0.62162164,\n",
      "       0.64459454, 0.62972968, 0.6162162 , 0.62207202, 0.61216214,\n",
      "       0.58558556, 0.56486483, 0.54054051, 0.52567565, 0.53603603,\n",
      "       0.56261262, 0.54819817, 0.53963963, 0.52972971, 0.53018017,\n",
      "       0.53243243, 0.51891891, 0.52252251, 0.50765765, 0.48108107,\n",
      "       0.49054053, 0.46936935, 0.46081081, 0.45045042, 0.46396395,\n",
      "       0.48108107, 0.45990988, 0.47702701, 0.46171168, 0.47522521,\n",
      "       0.51711711, 0.52117117, 0.50495493, 0.50180179, 0.49009007,\n",
      "       0.48468467, 0.50180179, 0.49504505, 0.48513513, 0.48783781])]\n",
      "[0.48783780663501713, 0.5315315117939332]\n"
     ]
    },
    {
     "data": {
      "text/plain": [
       "(1779, 60, 1)"
      ]
     },
     "execution_count": 65,
     "metadata": {},
     "output_type": "execute_result"
    }
   ],
   "source": [
    "train_data = scaled_data[0:train_data_len, :]\n",
    "# Split the data into x_train and y_train\n",
    "x_train = []\n",
    "y_train = []\n",
    "# give x and y training arrays some data\n",
    "for i in range(60, len(train_data)):\n",
    "    x_train.append(train_data[i-60:i, 0])\n",
    "    y_train.append(train_data[i,0])\n",
    "    if i <= 61:\n",
    "        print (x_train)\n",
    "        print (y_train)\n",
    "        print\n",
    "# convert x_train and y_train to numpy arrays\n",
    "x_train, y_train = np.array(x_train), np.array(y_train)\n",
    "# reshape the data to 3d\n",
    "x_train = np.reshape(x_train, (x_train.shape[0], x_train.shape[1], 1))\n",
    "x_train.shape"
   ]
  },
  {
   "cell_type": "markdown",
   "metadata": {},
   "source": [
    "## Building the LSTM Model"
   ]
  },
  {
   "cell_type": "code",
   "execution_count": 71,
   "metadata": {},
   "outputs": [],
   "source": [
    "model = Sequential()\n",
    "model.add(LSTM(50, return_sequences=True, input_shape =(x_train.shape[1],1)))\n",
    "model.add(LSTM(50, return_sequences= False))\n",
    "model.add(Dense(25))\n",
    "model.add(Dense(1))"
   ]
  },
  {
   "cell_type": "markdown",
   "metadata": {},
   "source": [
    "#### Compile the model"
   ]
  },
  {
   "cell_type": "code",
   "execution_count": 73,
   "metadata": {},
   "outputs": [],
   "source": [
    "model.compile(optimizer=\"adam\", loss = \"mean_squared_error\")"
   ]
  },
  {
   "cell_type": "markdown",
   "metadata": {},
   "source": [
    "#### Train the model with training data"
   ]
  },
  {
   "cell_type": "code",
   "execution_count": 74,
   "metadata": {},
   "outputs": [
    {
     "name": "stdout",
     "output_type": "stream",
     "text": [
      "1779/1779 [==============================] - 23s 13ms/step - loss: 0.0013\n"
     ]
    },
    {
     "data": {
      "text/plain": [
       "<tensorflow.python.keras.callbacks.History at 0x1bea2ebcbe0>"
      ]
     },
     "execution_count": 74,
     "metadata": {},
     "output_type": "execute_result"
    }
   ],
   "source": [
    "model.fit(x_train, y_train, batch_size=1, epochs=1)"
   ]
  },
  {
   "cell_type": "markdown",
   "metadata": {},
   "source": [
    "#### Create testing data set"
   ]
  },
  {
   "cell_type": "code",
   "execution_count": 78,
   "metadata": {},
   "outputs": [],
   "source": [
    "# Create a new array containing scaled values\n",
    "test_data = scaled_data[train_data_len-60: , :]\n",
    "# Create data sets x_test and y_test\n",
    "x_test = []\n",
    "y_test = dataset[train_data_len:, :]\n",
    "for i in range(60, len(test_data)):\n",
    "    x_test.append(test_data[i-60:i, 0])\n",
    "    "
   ]
  },
  {
   "cell_type": "markdown",
   "metadata": {},
   "source": [
    "#### Convert data to numpy"
   ]
  },
  {
   "cell_type": "code",
   "execution_count": 80,
   "metadata": {},
   "outputs": [],
   "source": [
    "x_test = np.array(x_test)"
   ]
  },
  {
   "cell_type": "markdown",
   "metadata": {},
   "source": [
    "#### Reshape the data"
   ]
  },
  {
   "cell_type": "code",
   "execution_count": 83,
   "metadata": {},
   "outputs": [],
   "source": [
    "x_test = np.reshape(x_test, (x_test.shape[0], x_test.shape[1], 1))"
   ]
  },
  {
   "cell_type": "markdown",
   "metadata": {},
   "source": [
    "#### Get models predictive price values"
   ]
  },
  {
   "cell_type": "code",
   "execution_count": 85,
   "metadata": {},
   "outputs": [],
   "source": [
    "predictions = model.predict(x_test)\n",
    "predictions = scaler.inverse_transform(predictions)"
   ]
  },
  {
   "cell_type": "markdown",
   "metadata": {},
   "source": [
    "#### Get the root mean squared error (RMSE)"
   ]
  },
  {
   "cell_type": "code",
   "execution_count": 88,
   "metadata": {},
   "outputs": [
    {
     "data": {
      "text/plain": [
       "0.9128014205278436"
      ]
     },
     "execution_count": 88,
     "metadata": {},
     "output_type": "execute_result"
    }
   ],
   "source": [
    "rmse=np.sqrt(np.mean(((predictions- y_test)**2)))\n",
    "rmse"
   ]
  },
  {
   "cell_type": "markdown",
   "metadata": {},
   "source": [
    "## Plot the Data"
   ]
  },
  {
   "cell_type": "code",
   "execution_count": 94,
   "metadata": {},
   "outputs": [
    {
     "name": "stderr",
     "output_type": "stream",
     "text": [
      "<ipython-input-94-b44c264611e6>:3: SettingWithCopyWarning: \n",
      "A value is trying to be set on a copy of a slice from a DataFrame.\n",
      "Try using .loc[row_indexer,col_indexer] = value instead\n",
      "\n",
      "See the caveats in the documentation: https://pandas.pydata.org/pandas-docs/stable/user_guide/indexing.html#returning-a-view-versus-a-copy\n",
      "  valid['Predictions'] = predictions\n"
     ]
    },
    {
     "data": {
      "text/plain": [
       "<function matplotlib.pyplot.show(close=None, block=None)>"
      ]
     },
     "execution_count": 94,
     "metadata": {},
     "output_type": "execute_result"
    },
    {
     "data": {
      "image/png": "[encoded data removed]",
      "text/plain": [
       "<Figure size 1152x576 with 1 Axes>"
      ]
     },
     "metadata": {},
     "output_type": "display_data"
    }
   ],
   "source": [
    "train = data[:train_data_len]\n",
    "valid = data[train_data_len:]\n",
    "valid['Predictions'] = predictions\n",
    "\n",
    "#plot the graph\n",
    "plt.figure(figsize=(16,8))\n",
    "plt.title('Model')\n",
    "plt.xlabel('Date')\n",
    "plt.ylabel('Closing Price (USD$)')\n",
    "plt.plot(train['Close'])\n",
    "plt.plot(valid[['Close', 'Predictions']])\n",
    "plt.legend([\"Training Closing Price\", 'Actual Closing Price', 'Predicted Closing Price'])\n",
    "plt.show"
   ]
  },
  {
   "cell_type": "markdown",
   "metadata": {},
   "source": [
    "#### Show the actual closing price and predicted closing price"
   ]
  },
  {
   "cell_type": "code",
   "execution_count": 95,
   "metadata": {},
   "outputs": [
    {
     "data": {
      "text/html": [
       "<div>\n",
       "<style scoped>\n",
       "    .dataframe tbody tr th:only-of-type {\n",
       "        vertical-align: middle;\n",
       "    }\n",
       "\n",
       "    .dataframe tbody tr th {\n",
       "        vertical-align: top;\n",
       "    }\n",
       "\n",
       "    .dataframe thead th {\n",
       "        text-align: right;\n",
       "    }\n",
       "</style>\n",
       "<table border=\"1\" class=\"dataframe\">\n",
       "  <thead>\n",
       "    <tr style=\"text-align: right;\">\n",
       "      <th></th>\n",
       "      <th>Close</th>\n",
       "      <th>Predictions</th>\n",
       "    </tr>\n",
       "    <tr>\n",
       "      <th>Date</th>\n",
       "      <th></th>\n",
       "      <th></th>\n",
       "    </tr>\n",
       "  </thead>\n",
       "  <tbody>\n",
       "    <tr>\n",
       "      <th>2019-04-26</th>\n",
       "      <td>9.19</td>\n",
       "      <td>9.352386</td>\n",
       "    </tr>\n",
       "    <tr>\n",
       "      <th>2019-04-29</th>\n",
       "      <td>9.29</td>\n",
       "      <td>9.360096</td>\n",
       "    </tr>\n",
       "    <tr>\n",
       "      <th>2019-04-30</th>\n",
       "      <td>9.18</td>\n",
       "      <td>9.409348</td>\n",
       "    </tr>\n",
       "    <tr>\n",
       "      <th>2019-05-01</th>\n",
       "      <td>9.07</td>\n",
       "      <td>9.434502</td>\n",
       "    </tr>\n",
       "    <tr>\n",
       "      <th>2019-05-02</th>\n",
       "      <td>9.22</td>\n",
       "      <td>9.419100</td>\n",
       "    </tr>\n",
       "    <tr>\n",
       "      <th>...</th>\n",
       "      <td>...</td>\n",
       "      <td>...</td>\n",
       "    </tr>\n",
       "    <tr>\n",
       "      <th>2021-02-12</th>\n",
       "      <td>13.04</td>\n",
       "      <td>12.991569</td>\n",
       "    </tr>\n",
       "    <tr>\n",
       "      <th>2021-02-16</th>\n",
       "      <td>12.21</td>\n",
       "      <td>13.011625</td>\n",
       "    </tr>\n",
       "    <tr>\n",
       "      <th>2021-02-17</th>\n",
       "      <td>11.32</td>\n",
       "      <td>12.835029</td>\n",
       "    </tr>\n",
       "    <tr>\n",
       "      <th>2021-02-18</th>\n",
       "      <td>10.94</td>\n",
       "      <td>12.415207</td>\n",
       "    </tr>\n",
       "    <tr>\n",
       "      <th>2021-02-19</th>\n",
       "      <td>10.90</td>\n",
       "      <td>11.935117</td>\n",
       "    </tr>\n",
       "  </tbody>\n",
       "</table>\n",
       "<p>459 rows × 2 columns</p>\n",
       "</div>"
      ],
      "text/plain": [
       "            Close  Predictions\n",
       "Date                          \n",
       "2019-04-26   9.19     9.352386\n",
       "2019-04-29   9.29     9.360096\n",
       "2019-04-30   9.18     9.409348\n",
       "2019-05-01   9.07     9.434502\n",
       "2019-05-02   9.22     9.419100\n",
       "...           ...          ...\n",
       "2021-02-12  13.04    12.991569\n",
       "2021-02-16  12.21    13.011625\n",
       "2021-02-17  11.32    12.835029\n",
       "2021-02-18  10.94    12.415207\n",
       "2021-02-19  10.90    11.935117\n",
       "\n",
       "[459 rows x 2 columns]"
      ]
     },
     "execution_count": 95,
     "metadata": {},
     "output_type": "execute_result"
    }
   ],
   "source": [
    "valid"
   ]
  },
  {
   "cell_type": "markdown",
   "metadata": {},
   "source": [
    "As we can see, the model does a pretty decent job in predicting the closing price."
   ]
  },
  {
   "cell_type": "markdown",
   "metadata": {},
   "source": [
    "## Predict Closing Price For Future Dates"
   ]
  },
  {
   "cell_type": "code",
   "execution_count": 98,
   "metadata": {},
   "outputs": [],
   "source": [
    "bb_quote = web.DataReader(\"BB\", data_source = 'yahoo', start = '2012-01-01', end ='2021-12-31')\n"
   ]
  },
  {
   "cell_type": "markdown",
   "metadata": {},
   "source": [
    "#### create a dataframe"
   ]
  },
  {
   "cell_type": "code",
   "execution_count": 110,
   "metadata": {},
   "outputs": [],
   "source": [
    "new_df = bb_quote.filter(['Close'])\n",
    "# Get the last 60 days closing price values and convert dataframe to array\n",
    "last_60_days = new_df[-60:].values\n",
    "# Scale the dataframe to be values between 0 and 1\n",
    "last_60_days_scaled = scaler.transform(last_60_days)\n",
    "# create an empty list\n",
    "x2_test = []\n",
    "# append the last 60 days\n",
    "x2_test.append(last_60_days_scaled)\n",
    "# convert to numpy array\n",
    "x2_test = np.array(x2_test)\n",
    "# reshape the data\n",
    "x2_test = np.reshape(x2_test, (x2_test.shape[0], x2_test.shape[1], 1))"
   ]
  },
  {
   "cell_type": "markdown",
   "metadata": {},
   "source": [
    "#### Get the predicted scaled price"
   ]
  },
  {
   "cell_type": "code",
   "execution_count": 113,
   "metadata": {},
   "outputs": [
    {
     "name": "stdout",
     "output_type": "stream",
     "text": [
      "[[11.55367]]\n"
     ]
    }
   ],
   "source": [
    "predicted_price = model.predict(x2_test)\n",
    "## undo the scaling\n",
    "predicted_price = scaler.inverse_transform(predicted_price)\n",
    "print(predicted_price)"
   ]
  },
  {
   "cell_type": "markdown",
   "metadata": {},
   "source": [
    "#### The predicted closing price for Blackberry on December 31, 2021 is $11.55"
   ]
  }
 ],
 "metadata": {
  "kernelspec": {
   "display_name": "Python 3",
   "language": "python",
   "name": "python3"
  },
  "language_info": {
   "codemirror_mode": {
    "name": "ipython",
    "version": 3
   },
   "file_extension": ".py",
   "mimetype": "text/x-python",
   "name": "python",
   "nbconvert_exporter": "python",
   "pygments_lexer": "ipython3",
   "version": "3.8.5"
  }
 },
 "nbformat": 4,
 "nbformat_minor": 4
}
